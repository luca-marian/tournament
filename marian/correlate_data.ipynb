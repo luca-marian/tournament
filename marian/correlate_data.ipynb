{
 "cells": [
  {
   "cell_type": "code",
   "execution_count": 7,
   "metadata": {},
   "outputs": [],
   "source": [
    "import pandas as pd\n",
    "import os\n",
    "from openai import OpenAI"
   ]
  },
  {
   "cell_type": "code",
   "execution_count": 8,
   "metadata": {},
   "outputs": [
    {
     "name": "stdout",
     "output_type": "stream",
     "text": [
      "Current Directory: /Users/marianluca/Projects/HackingBigNumbers/Tournament/marian\n",
      "Parent Directory: /Users/marianluca/Projects/HackingBigNumbers/Tournament\n"
     ]
    }
   ],
   "source": [
    "current_directory = os.getcwd()\n",
    "\n",
    "parent_directory = os.path.dirname(current_directory)\n",
    "\n",
    "DATA_PATH = os.path.join(parent_directory, \"data\")\n",
    "DATA_TOURNAMENT = os.path.join(DATA_PATH, \"tournament_hints_data.parquet\")\n",
    "\n",
    "DATA_TOURNAMENT = os.path.join(DATA_PATH, \"tournament_hints_data.parquet\")\n",
    "DATA_BUSINESS = os.path.join(DATA_PATH, \"Business category taxonomy.xlsx\")\n",
    "DATA_NAICS = os.path.join(\n",
    "    DATA_PATH,\n",
    "    \"naics3_tournament_taxonomy.xlsx\",\n",
    ")\n",
    "\n",
    "openai_api_key = \"sk-proj-OSCk0tPAJxvpKtxmZIObT3BlbkFJA9hXFC8sq06DAxMmJgQl\"\n",
    "\n",
    "print(\"Current Directory:\", current_directory)\n",
    "print(\"Parent Directory:\", parent_directory)"
   ]
  },
  {
   "cell_type": "code",
   "execution_count": 9,
   "metadata": {},
   "outputs": [],
   "source": [
    "df_naics = pd.read_excel(DATA_NAICS)\n",
    "df_business = pd.read_excel(DATA_BUSINESS)"
   ]
  },
  {
   "cell_type": "code",
   "execution_count": 10,
   "metadata": {},
   "outputs": [],
   "source": [
    "client = OpenAI(api_key=openai_api_key)"
   ]
  },
  {
   "cell_type": "code",
   "execution_count": 27,
   "metadata": {},
   "outputs": [],
   "source": [
    "from tqdm import tqdm"
   ]
  },
  {
   "cell_type": "code",
   "execution_count": 34,
   "metadata": {},
   "outputs": [
    {
     "name": "stderr",
     "output_type": "stream",
     "text": [
      " 69%|██████▉   | 66/96 [01:02<00:32,  1.08s/it]"
     ]
    }
   ],
   "source": [
    "def find_naics_category(description, naics_df):\n",
    "    responses = []\n",
    "\n",
    "    # print(f\"Try to function {description} with {label}\")\n",
    "\n",
    "    for label, label_description in tqdm(zip(\n",
    "        naics_df[\"naics_label\"], naics_df[\"description\"]),total=len(naics_df)):\n",
    "        prompt = f\"Given` the description: '{description}',give the probability which match the category: '{label}' which is described as: '{label_description}'. Compute and return a probability score from 0 to 1. Return just the probability score.\"\n",
    "\n",
    "        try:\n",
    "            response = client.chat.completions.create(\n",
    "                model=\"gpt-3.5-turbo\",\n",
    "                messages=[\n",
    "                    {\"role\": \"user\", \"content\": prompt},\n",
    "                ],\n",
    "                max_tokens=90,\n",
    "                temperature=0,\n",
    "            )\n",
    "\n",
    "            responses.append((label, response.choices[0].message.content.strip()))\n",
    "\n",
    "        except Exception as e:\n",
    "            print(f\"An error occurred: {e}\")\n",
    "\n",
    "    result = sorted(responses, key=lambda x: x[1], reverse=True)[0][0]\n",
    "\n",
    "    print(f\"{result} ----> {description}\")\n",
    "\n",
    "    return result\n",
    "\n",
    "\n",
    "# Mapping each business label to a NAICS category\n",
    "df_business[\"Mapped NAICS Label\"] = df_business[\"description\"].apply(\n",
    "    lambda desc: find_naics_category(desc, df_naics)\n",
    ")\n",
    "\n",
    "# Saving the mapped labels\n",
    "df_business.to_csv(\"mapped_business_labels.csv\", index=False)"
   ]
  },
  {
   "cell_type": "code",
   "execution_count": null,
   "metadata": {},
   "outputs": [],
   "source": [
    "# Mapping each business label to a NAICS category\n",
    "df_business[\"Mapped NAICS Label\"] = df_business[\"description\"].apply(\n",
    "    lambda desc: find_naics_category(desc, df_naics)\n",
    ")\n",
    "\n",
    "# Saving the mapped labels\n",
    "df_business.to_csv(\"mapped_business_labels.csv\", index=False)"
   ]
  },
  {
   "cell_type": "code",
   "execution_count": null,
   "metadata": {},
   "outputs": [],
   "source": [
    "def find_naics_category_second_approach(labels, naics_df):\n",
    "    responses = []\n",
    "\n",
    "    # print(f\"Try to function {description} with {label}\")\n",
    "\n",
    "    for label, label_description in zip(\n",
    "        naics_df[\"naics_label\"], naics_df[\"description\"]\n",
    "    ):\n",
    "        prompt = f\"Given` the description: '{label_description}' with  '{label}',choose one of the following labels: '{list(naics_df[\"nics\"])}' which is described as: '{label_description}'. Compute and return a probability score from 0 to 1. Return just the probability score.\"\n",
    "\n",
    "        try:\n",
    "            response = client.chat.completions.create(\n",
    "                model=\"gpt-4\",\n",
    "                messages=[\n",
    "                    # {\n",
    "                    #     \"role\": \"system\",\n",
    "                    #     \"content\": \"You are tasked with evaluating business descriptions and categorizing them based on a likelihood score. For each provided description and category, compute and return a probability score from 0 to 1.\",\n",
    "                    # },\n",
    "                    {\"role\": \"user\", \"content\": prompt},\n",
    "                ],\n",
    "                max_tokens=90,\n",
    "                temperature=0,\n",
    "            )\n",
    "\n",
    "            responses.append((label, response.choices[0].message.content.strip()))\n",
    "\n",
    "        except Exception as e:\n",
    "            print(f\"An error occurred: {e}\")\n",
    "\n",
    "    print(responses)\n",
    "\n",
    "    result = sorted(responses, key=lambda x: x[1], reverse=True)[0][0]\n",
    "\n",
    "    return result\n",
    "\n",
    "\n",
    "# Mapping each business label to a NAICS category\n",
    "df_business[\"Mapped NAICS Label\"] = df_business[\"description\"].apply(\n",
    "    lambda desc: find_naics_category(desc, df_naics)\n",
    ")\n",
    "\n",
    "# Saving the mapped labels\n",
    "df_business.to_csv(\"mapped_business_labels.csv\", index=False)"
   ]
  },
  {
   "cell_type": "code",
   "execution_count": 23,
   "metadata": {},
   "outputs": [],
   "source": [
    "test = df_business[:100]"
   ]
  },
  {
   "cell_type": "code",
   "execution_count": 24,
   "metadata": {},
   "outputs": [
    {
     "data": {
      "text/html": [
       "<div>\n",
       "<style scoped>\n",
       "    .dataframe tbody tr th:only-of-type {\n",
       "        vertical-align: middle;\n",
       "    }\n",
       "\n",
       "    .dataframe tbody tr th {\n",
       "        vertical-align: top;\n",
       "    }\n",
       "\n",
       "    .dataframe thead th {\n",
       "        text-align: right;\n",
       "    }\n",
       "</style>\n",
       "<table border=\"1\" class=\"dataframe\">\n",
       "  <thead>\n",
       "    <tr style=\"text-align: right;\">\n",
       "      <th></th>\n",
       "      <th>label</th>\n",
       "      <th>description</th>\n",
       "    </tr>\n",
       "  </thead>\n",
       "  <tbody>\n",
       "    <tr>\n",
       "      <th>0</th>\n",
       "      <td>ATVs Dealers &amp; Services</td>\n",
       "      <td>Businesses categorized under ATVs Dealers &amp; Se...</td>\n",
       "    </tr>\n",
       "    <tr>\n",
       "      <th>1</th>\n",
       "      <td>Abortion Clinics</td>\n",
       "      <td>Abortion Clinics provide medical services rela...</td>\n",
       "    </tr>\n",
       "    <tr>\n",
       "      <th>2</th>\n",
       "      <td>Accounting &amp; Bookkeeping Services</td>\n",
       "      <td>Accounting &amp; Bookkeeping Services encompass a ...</td>\n",
       "    </tr>\n",
       "    <tr>\n",
       "      <th>3</th>\n",
       "      <td>Acupuncture clinic</td>\n",
       "      <td>An Acupuncture clinic is a healthcare facility...</td>\n",
       "    </tr>\n",
       "    <tr>\n",
       "      <th>4</th>\n",
       "      <td>Adhesives &amp; Sealants</td>\n",
       "      <td>Adhesives &amp; Sealants encompass a diverse range...</td>\n",
       "    </tr>\n",
       "    <tr>\n",
       "      <th>...</th>\n",
       "      <td>...</td>\n",
       "      <td>...</td>\n",
       "    </tr>\n",
       "    <tr>\n",
       "      <th>95</th>\n",
       "      <td>Butcher shop</td>\n",
       "      <td>A butcher shop is a retail establishment speci...</td>\n",
       "    </tr>\n",
       "    <tr>\n",
       "      <th>96</th>\n",
       "      <td>Buyback Shops</td>\n",
       "      <td>Buyback Shops are retail establishments that s...</td>\n",
       "    </tr>\n",
       "    <tr>\n",
       "      <th>97</th>\n",
       "      <td>CBD and Medical Marijuana</td>\n",
       "      <td>The CBD and Medical Marijuana category encompa...</td>\n",
       "    </tr>\n",
       "    <tr>\n",
       "      <th>98</th>\n",
       "      <td>Cabinet Makers</td>\n",
       "      <td>Cabinet Makers specialize in the skilled craft...</td>\n",
       "    </tr>\n",
       "    <tr>\n",
       "      <th>99</th>\n",
       "      <td>Cable &amp; Internet Providers</td>\n",
       "      <td>Cable &amp; Internet Providers encompass companies...</td>\n",
       "    </tr>\n",
       "  </tbody>\n",
       "</table>\n",
       "<p>100 rows × 2 columns</p>\n",
       "</div>"
      ],
      "text/plain": [
       "                                label  \\\n",
       "0             ATVs Dealers & Services   \n",
       "1                    Abortion Clinics   \n",
       "2   Accounting & Bookkeeping Services   \n",
       "3                  Acupuncture clinic   \n",
       "4                Adhesives & Sealants   \n",
       "..                                ...   \n",
       "95                       Butcher shop   \n",
       "96                      Buyback Shops   \n",
       "97          CBD and Medical Marijuana   \n",
       "98                     Cabinet Makers   \n",
       "99         Cable & Internet Providers   \n",
       "\n",
       "                                          description  \n",
       "0   Businesses categorized under ATVs Dealers & Se...  \n",
       "1   Abortion Clinics provide medical services rela...  \n",
       "2   Accounting & Bookkeeping Services encompass a ...  \n",
       "3   An Acupuncture clinic is a healthcare facility...  \n",
       "4   Adhesives & Sealants encompass a diverse range...  \n",
       "..                                                ...  \n",
       "95  A butcher shop is a retail establishment speci...  \n",
       "96  Buyback Shops are retail establishments that s...  \n",
       "97  The CBD and Medical Marijuana category encompa...  \n",
       "98  Cabinet Makers specialize in the skilled craft...  \n",
       "99  Cable & Internet Providers encompass companies...  \n",
       "\n",
       "[100 rows x 2 columns]"
      ]
     },
     "execution_count": 24,
     "metadata": {},
     "output_type": "execute_result"
    }
   ],
   "source": [
    "test"
   ]
  }
 ],
 "metadata": {
  "kernelspec": {
   "display_name": "env_pytorch",
   "language": "python",
   "name": "python3"
  },
  "language_info": {
   "codemirror_mode": {
    "name": "ipython",
    "version": 3
   },
   "file_extension": ".py",
   "mimetype": "text/x-python",
   "name": "python",
   "nbconvert_exporter": "python",
   "pygments_lexer": "ipython3",
   "version": "3.9.18"
  }
 },
 "nbformat": 4,
 "nbformat_minor": 2
}
