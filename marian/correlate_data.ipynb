{
 "cells": [
  {
   "cell_type": "code",
   "execution_count": 7,
   "metadata": {},
   "outputs": [],
   "source": [
    "import pandas as pd\n",
    "import os\n",
    "from openai import OpenAI"
   ]
  },
  {
   "cell_type": "code",
   "execution_count": 8,
   "metadata": {},
   "outputs": [
    {
     "name": "stdout",
     "output_type": "stream",
     "text": [
      "Current Directory: /Users/marianluca/Projects/HackingBigNumbers/Tournament/marian\n",
      "Parent Directory: /Users/marianluca/Projects/HackingBigNumbers/Tournament\n"
     ]
    }
   ],
   "source": [
    "current_directory = os.getcwd()\n",
    "\n",
    "parent_directory = os.path.dirname(current_directory)\n",
    "\n",
    "DATA_PATH = os.path.join(parent_directory, \"data\")\n",
    "DATA_TOURNAMENT = os.path.join(DATA_PATH, \"tournament_hints_data.parquet\")\n",
    "\n",
    "DATA_TOURNAMENT = os.path.join(DATA_PATH, \"tournament_hints_data.parquet\")\n",
    "DATA_BUSINESS = os.path.join(DATA_PATH, \"Business category taxonomy.xlsx\")\n",
    "DATA_NAICS = os.path.join(\n",
    "    DATA_PATH,\n",
    "    \"naics3_tournament_taxonomy.xlsx\",\n",
    ")\n",
    "\n",
    "openai_api_key = \"sk-proj-OSCk0tPAJxvpKtxmZIObT3BlbkFJA9hXFC8sq06DAxMmJgQl\"\n",
    "\n",
    "print(\"Current Directory:\", current_directory)\n",
    "print(\"Parent Directory:\", parent_directory)"
   ]
  },
  {
   "cell_type": "code",
   "execution_count": 9,
   "metadata": {},
   "outputs": [],
   "source": [
    "df_naics = pd.read_excel(DATA_NAICS)\n",
    "df_business = pd.read_excel(DATA_BUSINESS)"
   ]
  },
  {
   "cell_type": "code",
   "execution_count": 10,
   "metadata": {},
   "outputs": [],
   "source": [
    "client = OpenAI(api_key=openai_api_key)"
   ]
  },
  {
   "cell_type": "code",
   "execution_count": 27,
   "metadata": {},
   "outputs": [],
   "source": [
    "from tqdm import tqdm"
   ]
  },
  {
   "cell_type": "code",
   "execution_count": 39,
   "metadata": {},
   "outputs": [
    {
     "name": "stderr",
     "output_type": "stream",
     "text": [
      "100%|██████████| 96/96 [01:25<00:00,  1.12it/s]\n"
     ]
    },
    {
     "name": "stdout",
     "output_type": "stream",
     "text": [
      "Motor Vehicle and Parts Dealers ----> Businesses categorized under ATVs Dealers & Services specialize in the sale, maintenance, and rental of all-terrain vehicles (ATVs). These establishments offer a range of services related to ATVs, including sales of new and used vehicles, repair and maintenance services, as well as rental options for recreational use. Customers can expect expert guidance on ATV selection, repair services to ensure optimal performance, and convenient rental options for outdoor adventures. The industry is dedicated to meeting the diverse needs of ATV enthusiasts, providing a one-stop destination for all ATV-related requirements.\n"
     ]
    },
    {
     "name": "stderr",
     "output_type": "stream",
     "text": [
      "100%|██████████| 96/96 [01:18<00:00,  1.22it/s]\n"
     ]
    },
    {
     "name": "stdout",
     "output_type": "stream",
     "text": [
      "Ambulatory Health Care Services ----> Abortion Clinics provide medical services related to pregnancy termination in a clinical setting. These facilities offer a range of reproductive health services, including counseling, medical procedures, and follow-up care. Patients seeking abortion services may visit these clinics for confidential and professional healthcare assistance.\n"
     ]
    },
    {
     "name": "stderr",
     "output_type": "stream",
     "text": [
      "100%|██████████| 96/96 [05:30<00:00,  3.44s/it]\n"
     ]
    },
    {
     "name": "stdout",
     "output_type": "stream",
     "text": [
      "Professional, Scientific, and Technical Services ----> Accounting & Bookkeeping Services encompass a range of professional financial activities aimed at maintaining accurate and organized records of a business's financial transactions. These services typically involve the preparation, analysis, and interpretation of financial data to support decision-making processes. Professionals in this field are responsible for ensuring compliance with relevant regulations and standards, as well as providing valuable insights to help businesses manage their financial resources effectively.\n"
     ]
    },
    {
     "name": "stderr",
     "output_type": "stream",
     "text": [
      "100%|██████████| 96/96 [01:22<00:00,  1.17it/s]\n"
     ]
    },
    {
     "name": "stdout",
     "output_type": "stream",
     "text": [
      "Ambulatory Health Care Services ----> An Acupuncture clinic is a healthcare facility that specializes in providing acupuncture services to patients seeking alternative or complementary treatments for various health conditions. These clinics are staffed by licensed acupuncturists who utilize traditional Chinese medicine techniques to stimulate specific points on the body, aiming to restore balance and promote overall well-being. Patients typically visit Acupuncture clinics to address issues such as pain management, stress reduction, and improving their overall health and quality of life.\n"
     ]
    },
    {
     "name": "stderr",
     "output_type": "stream",
     "text": [
      "100%|██████████| 96/96 [03:31<00:00,  2.20s/it]\n"
     ]
    },
    {
     "name": "stdout",
     "output_type": "stream",
     "text": [
      "Chemical Manufacturing ----> Adhesives & Sealants encompass a diverse range of products used in various industries for bonding, sealing, and coating applications. These materials play a crucial role in manufacturing processes by providing adhesion and protection to different surfaces. Adhesives are used to join materials together, while sealants are utilized to prevent leakage and provide a barrier against environmental factors. The category includes a wide array of specialized products tailored to meet specific industrial needs, ensuring reliable and durable bonding solutions.\n"
     ]
    },
    {
     "name": "stderr",
     "output_type": "stream",
     "text": [
      "100%|██████████| 96/96 [01:45<00:00,  1.10s/it]\n"
     ]
    },
    {
     "name": "stdout",
     "output_type": "stream",
     "text": [
      "Social Assistance ----> Adoption Agencies & Foster Care involve organizations that facilitate the placement of children in need of permanent homes or temporary care. These entities play a crucial role in providing support and services to children, families, and caregivers involved in the adoption and foster care processes. They work to ensure the well-being and safety of children by overseeing the placement, monitoring, and support services throughout the adoption or foster care journey.\n"
     ]
    },
    {
     "name": "stderr",
     "output_type": "stream",
     "text": [
      "100%|██████████| 96/96 [01:29<00:00,  1.07it/s]\n"
     ]
    },
    {
     "name": "stdout",
     "output_type": "stream",
     "text": [
      "Motion Picture and Sound Recording Industries ----> The Adult & Porn category encompasses businesses and services related to adult entertainment, including the production and distribution of adult content, as well as the management of artists, athletes, entertainers, and public figures within this industry. This category may also include establishments such as drive-in motion picture theaters, motion picture theaters (excluding drive-ins), and greeting card publishers specializing in adult-themed content.\n"
     ]
    },
    {
     "name": "stderr",
     "output_type": "stream",
     "text": [
      "100%|██████████| 96/96 [01:30<00:00,  1.06it/s]\n"
     ]
    },
    {
     "name": "stdout",
     "output_type": "stream",
     "text": [
      "Educational Services ----> Adult Education Schools provide specialized educational services to adults seeking to further their knowledge and skills beyond the traditional academic setting. These institutions offer a variety of programs tailored to meet the diverse needs of adult learners, including vocational training, technical education, apprenticeship programs, and educational support services. Adult Education Schools play a crucial role in equipping individuals with the necessary tools and expertise to enhance their career prospects and personal development.\n"
     ]
    },
    {
     "name": "stderr",
     "output_type": "stream",
     "text": [
      "100%|██████████| 96/96 [01:23<00:00,  1.14it/s]\n"
     ]
    },
    {
     "name": "stdout",
     "output_type": "stream",
     "text": [
      "Performing Arts, Spectator Sports, and Related Industries ----> Adult Entertainment Clubs typically refer to establishments that offer adult-oriented entertainment services and activities for patrons. These venues often feature live performances, adult-themed shows, and other forms of entertainment catering to mature audiences. Customers visiting adult entertainment clubs seek a unique and specialized entertainment experience that may include adult beverages, socializing, and various forms of adult entertainment. These establishments are distinct from traditional bars or nightclubs due to their focus on adult-themed entertainment offerings.\n"
     ]
    },
    {
     "name": "stderr",
     "output_type": "stream",
     "text": [
      " 29%|██▉       | 28/96 [00:26<01:05,  1.03it/s]"
     ]
    }
   ],
   "source": [
    "def find_naics_category(description, naics_df):\n",
    "    responses = []\n",
    "\n",
    "    # print(f\"Try to function {description} with {label}\")\n",
    "\n",
    "    for label, label_description in tqdm(zip(\n",
    "        naics_df[\"naics_label\"], naics_df[\"description\"]),total=len(naics_df)):\n",
    "        prompt = f\"Given` the description: '{description}',give the probability which match the category: '{label}' which is described as: '{label_description}'. Compute and return a probability score from 0 to 1. Return just the probability score.\"\n",
    "\n",
    "        try:\n",
    "            response = client.chat.completions.create(\n",
    "                model=\"gpt-4\",\n",
    "                messages=[\n",
    "                    {\"role\": \"user\", \"content\": prompt},\n",
    "                ],\n",
    "                max_tokens=90,\n",
    "                temperature=0,\n",
    "            )\n",
    "\n",
    "            responses.append((label, response.choices[0].message.content.strip()))\n",
    "\n",
    "        except Exception as e:\n",
    "            print(f\"An error occurred: {e}\")\n",
    "\n",
    "    result = sorted(responses, key=lambda x: x[1], reverse=True)[0][0]\n",
    "\n",
    "    print(f\"{result} ----> {description}\")\n",
    "\n",
    "    return result\n",
    "\n",
    "\n",
    "# Mapping each business label to a NAICS category\n",
    "df_business[\"Mapped NAICS Label\"] = df_business[\"description\"].apply(\n",
    "    lambda desc: find_naics_category(desc, df_naics)\n",
    ")\n",
    "\n",
    "# Saving the mapped labels\n",
    "df_business.to_csv(\"mapped_business_labels.csv\", index=False)"
   ]
  },
  {
   "cell_type": "code",
   "execution_count": null,
   "metadata": {},
   "outputs": [],
   "source": []
  },
  {
   "cell_type": "code",
   "execution_count": null,
   "metadata": {},
   "outputs": [],
   "source": [
    "# Mapping each business label to a NAICS category\n",
    "df_business[\"Mapped NAICS Label\"] = df_business[\"description\"].apply(\n",
    "    lambda desc: find_naics_category(desc, df_naics)\n",
    ")\n",
    "\n",
    "# Saving the mapped labels\n",
    "df_business.to_csv(\"mapped_business_labels.csv\", index=False)"
   ]
  },
  {
   "cell_type": "code",
   "execution_count": null,
   "metadata": {},
   "outputs": [],
   "source": [
    "def find_naics_category_second_approach(labels, naics_df):\n",
    "    responses = []\n",
    "\n",
    "    # print(f\"Try to function {description} with {label}\")\n",
    "\n",
    "    for label, label_description in zip(\n",
    "        naics_df[\"naics_label\"], naics_df[\"description\"]\n",
    "    ):\n",
    "        prompt = f\"Given` the description: '{label_description}' with  '{label}',choose one of the following labels: '{list(naics_df[\"nics\"])}' which is described as: '{label_description}'. Compute and return a probability score from 0 to 1. Return just the probability score.\"\n",
    "\n",
    "        try:\n",
    "            response = client.chat.completions.create(\n",
    "                model=\"gpt-4\",\n",
    "                messages=[\n",
    "                    # {\n",
    "                    #     \"role\": \"system\",\n",
    "                    #     \"content\": \"You are tasked with evaluating business descriptions and categorizing them based on a likelihood score. For each provided description and category, compute and return a probability score from 0 to 1.\",\n",
    "                    # },\n",
    "                    {\"role\": \"user\", \"content\": prompt},\n",
    "                ],\n",
    "                max_tokens=90,\n",
    "                temperature=0,\n",
    "            )\n",
    "\n",
    "            responses.append((label, response.choices[0].message.content.strip()))\n",
    "\n",
    "        except Exception as e:\n",
    "            print(f\"An error occurred: {e}\")\n",
    "\n",
    "    print(responses)\n",
    "\n",
    "    result = sorted(responses, key=lambda x: x[1], reverse=True)[0][0]\n",
    "\n",
    "    return result\n",
    "\n",
    "\n",
    "# Mapping each business label to a NAICS category\n",
    "df_business[\"Mapped NAICS Label\"] = df_business[\"description\"].apply(\n",
    "    lambda desc: find_naics_category(desc, df_naics)\n",
    ")\n",
    "\n",
    "# Saving the mapped labels\n",
    "df_business.to_csv(\"mapped_business_labels.csv\", index=False)"
   ]
  },
  {
   "cell_type": "code",
   "execution_count": 23,
   "metadata": {},
   "outputs": [],
   "source": [
    "test = df_business[:100]"
   ]
  },
  {
   "cell_type": "code",
   "execution_count": 24,
   "metadata": {},
   "outputs": [
    {
     "data": {
      "text/html": [
       "<div>\n",
       "<style scoped>\n",
       "    .dataframe tbody tr th:only-of-type {\n",
       "        vertical-align: middle;\n",
       "    }\n",
       "\n",
       "    .dataframe tbody tr th {\n",
       "        vertical-align: top;\n",
       "    }\n",
       "\n",
       "    .dataframe thead th {\n",
       "        text-align: right;\n",
       "    }\n",
       "</style>\n",
       "<table border=\"1\" class=\"dataframe\">\n",
       "  <thead>\n",
       "    <tr style=\"text-align: right;\">\n",
       "      <th></th>\n",
       "      <th>label</th>\n",
       "      <th>description</th>\n",
       "    </tr>\n",
       "  </thead>\n",
       "  <tbody>\n",
       "    <tr>\n",
       "      <th>0</th>\n",
       "      <td>ATVs Dealers &amp; Services</td>\n",
       "      <td>Businesses categorized under ATVs Dealers &amp; Se...</td>\n",
       "    </tr>\n",
       "    <tr>\n",
       "      <th>1</th>\n",
       "      <td>Abortion Clinics</td>\n",
       "      <td>Abortion Clinics provide medical services rela...</td>\n",
       "    </tr>\n",
       "    <tr>\n",
       "      <th>2</th>\n",
       "      <td>Accounting &amp; Bookkeeping Services</td>\n",
       "      <td>Accounting &amp; Bookkeeping Services encompass a ...</td>\n",
       "    </tr>\n",
       "    <tr>\n",
       "      <th>3</th>\n",
       "      <td>Acupuncture clinic</td>\n",
       "      <td>An Acupuncture clinic is a healthcare facility...</td>\n",
       "    </tr>\n",
       "    <tr>\n",
       "      <th>4</th>\n",
       "      <td>Adhesives &amp; Sealants</td>\n",
       "      <td>Adhesives &amp; Sealants encompass a diverse range...</td>\n",
       "    </tr>\n",
       "    <tr>\n",
       "      <th>...</th>\n",
       "      <td>...</td>\n",
       "      <td>...</td>\n",
       "    </tr>\n",
       "    <tr>\n",
       "      <th>95</th>\n",
       "      <td>Butcher shop</td>\n",
       "      <td>A butcher shop is a retail establishment speci...</td>\n",
       "    </tr>\n",
       "    <tr>\n",
       "      <th>96</th>\n",
       "      <td>Buyback Shops</td>\n",
       "      <td>Buyback Shops are retail establishments that s...</td>\n",
       "    </tr>\n",
       "    <tr>\n",
       "      <th>97</th>\n",
       "      <td>CBD and Medical Marijuana</td>\n",
       "      <td>The CBD and Medical Marijuana category encompa...</td>\n",
       "    </tr>\n",
       "    <tr>\n",
       "      <th>98</th>\n",
       "      <td>Cabinet Makers</td>\n",
       "      <td>Cabinet Makers specialize in the skilled craft...</td>\n",
       "    </tr>\n",
       "    <tr>\n",
       "      <th>99</th>\n",
       "      <td>Cable &amp; Internet Providers</td>\n",
       "      <td>Cable &amp; Internet Providers encompass companies...</td>\n",
       "    </tr>\n",
       "  </tbody>\n",
       "</table>\n",
       "<p>100 rows × 2 columns</p>\n",
       "</div>"
      ],
      "text/plain": [
       "                                label  \\\n",
       "0             ATVs Dealers & Services   \n",
       "1                    Abortion Clinics   \n",
       "2   Accounting & Bookkeeping Services   \n",
       "3                  Acupuncture clinic   \n",
       "4                Adhesives & Sealants   \n",
       "..                                ...   \n",
       "95                       Butcher shop   \n",
       "96                      Buyback Shops   \n",
       "97          CBD and Medical Marijuana   \n",
       "98                     Cabinet Makers   \n",
       "99         Cable & Internet Providers   \n",
       "\n",
       "                                          description  \n",
       "0   Businesses categorized under ATVs Dealers & Se...  \n",
       "1   Abortion Clinics provide medical services rela...  \n",
       "2   Accounting & Bookkeeping Services encompass a ...  \n",
       "3   An Acupuncture clinic is a healthcare facility...  \n",
       "4   Adhesives & Sealants encompass a diverse range...  \n",
       "..                                                ...  \n",
       "95  A butcher shop is a retail establishment speci...  \n",
       "96  Buyback Shops are retail establishments that s...  \n",
       "97  The CBD and Medical Marijuana category encompa...  \n",
       "98  Cabinet Makers specialize in the skilled craft...  \n",
       "99  Cable & Internet Providers encompass companies...  \n",
       "\n",
       "[100 rows x 2 columns]"
      ]
     },
     "execution_count": 24,
     "metadata": {},
     "output_type": "execute_result"
    }
   ],
   "source": [
    "test"
   ]
  }
 ],
 "metadata": {
  "kernelspec": {
   "display_name": "env_pytorch",
   "language": "python",
   "name": "python3"
  },
  "language_info": {
   "codemirror_mode": {
    "name": "ipython",
    "version": 3
   },
   "file_extension": ".py",
   "mimetype": "text/x-python",
   "name": "python",
   "nbconvert_exporter": "python",
   "pygments_lexer": "ipython3",
   "version": "3.9.18"
  }
 },
 "nbformat": 4,
 "nbformat_minor": 2
}
